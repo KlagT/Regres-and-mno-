{
  "nbformat": 4,
  "nbformat_minor": 0,
  "metadata": {
    "colab": {
      "provenance": []
    },
    "kernelspec": {
      "name": "python3",
      "display_name": "Python 3"
    },
    "language_info": {
      "name": "python"
    }
  },
  "cells": [
    {
      "cell_type": "code",
      "execution_count": null,
      "metadata": {
        "colab": {
          "base_uri": "https://localhost:8080/"
        },
        "id": "o6SLxWO_NumX",
        "outputId": "e94ec3af-b928-4182-b369-cb34f376a295"
      },
      "outputs": [
        {
          "output_type": "stream",
          "name": "stdout",
          "text": [
            "Множественная регрессия: a 19.063792739552547 b -0.03588011819333051 c -6.135073155458522e-05 d 0.0002877137755663307\n",
            "Новые значения х: [4116.487467097777, 6537.122642133705, 9758.365351994455]\n",
            "Score -1321.7342348220584\n"
          ]
        }
      ],
      "source": [
        "class MyClass: \n",
        "  def init(self): \n",
        "    self.a = None \n",
        "    self.b = None\n",
        "  def fit(self,x,y): \n",
        "    n = len(x) \n",
        "    x_m = sum(x) / n \n",
        "    y_m = sum(y) / n \n",
        "    xy_m = sum([xi*yi for xi,yi in zip(x,y)]) /n \n",
        "    x_squared_mean = sum([xi**2 for xi in x]) / n \n",
        "    self.a = (xy_m - x_m * y_m) / (x_squared_mean - x_m**2) \n",
        "    self.b = y_m - self.a * x_m\n",
        "\n",
        "  def predict(self,x): \n",
        "     if self.a is None or self.b is None: \n",
        "       raise ValueError(\"Модель не обучена(\") \n",
        "     return [self.a * xi + self.b for xi in x] \n",
        "  def score(self,x,y): \n",
        "    try: \n",
        "      y_p = self.predict(x) \n",
        "    except ValueError: \n",
        "      raise ValueError(\"Модель не обучена(\") \n",
        "     \n",
        "    y_m = sum(y) / len(y) \n",
        "    fgf = sum([(yi - y_m)**2 for yi in y]) \n",
        "    gfg = sum([(yi - y_p[i])**2 for i, yi in enumerate(y)]) \n",
        "    return 1 - gfg/fgf\n",
        "\n",
        "  def multiple_fit(self,x,y):\n",
        "    n = len(x)\n",
        "    x_m = sum(x) / n\n",
        "    y_m = sum(y) / n\n",
        "    x_squared_mean = sum([xi**2 for xi in x]) / n\n",
        "    xy_m = sum([xi*yi for xi,yi in zip(x,y)]) /n\n",
        "    x_cubed_mean = sum([xi**3 for xi in x]) / n\n",
        "    x_quad_mean = sum([xi**4 for xi in x]) / n\n",
        "    xy_sq_mean = sum([xi**2*yi for xi,yi in zip(x,y)]) /n\n",
        "    self.a = (x_quad_mean*xy_m - x_cubed_mean*x_m) / (x_quad_mean*x_squared_mean - x_cubed_mean**2) \n",
        "    self.b = (x_squared_mean*xy_m - x_m*xy_sq_mean) / (x_squared_mean*x_quad_mean - x_cubed_mean**2)\n",
        "    self.c = (x_cubed_mean*x_m - x_squared_mean*xy_m) / (x_cubed_mean*x_quad_mean - x_squared_mean**2)\n",
        "    self.d = (x_m*xy_sq_mean - xy_m*x_squared_mean) / (x_cubed_mean*x_quad_mean - x_squared_mean**2)\n",
        "    \n",
        "  def multiple_predict(self,x): \n",
        "    if self.a is None or self.b is None or self.c is None or self.d is None: \n",
        "      raise ValueError(\"Модель не обучена(\") \n",
        "    return [self.a * xi**3 + self.b*xi**2 + self.c*xi + self.d for xi in x] \n",
        "    \n",
        "model = MyClass() \n",
        "x = [1,3,5,7,9] \n",
        "y = [2,4,6,8,10]\n",
        "model.multiple_fit(x,y)\n",
        "print(\"Множественная регрессия: a\",model.a,\"b\",model.b,\"c\",model.c,\"d\",model.d) \n",
        "print(\"Новые значения х:\",model.multiple_predict([6,7,8])) \n",
        "print(\"Score\", model.score(x,y))"
      ]
    }
  ]
}