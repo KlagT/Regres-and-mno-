{
  "nbformat": 4,
  "nbformat_minor": 0,
  "metadata": {
    "colab": {
      "provenance": []
    },
    "kernelspec": {
      "name": "python3",
      "display_name": "Python 3"
    },
    "language_info": {
      "name": "python"
    }
  },
  "cells": [
    {
      "cell_type": "code",
      "source": [
        "class MyClass:\n",
        "  def __init__(self):\n",
        "    self.a = None\n",
        "    self.b = None\n",
        "  def fit(self,x,y):\n",
        "    n = len(x)\n",
        "    x_m = sum(x) / n\n",
        "    y_m = sum(y) / n\n",
        "    xy_m = sum([xi*yi for xi,yi in zip(x,y)]) /n\n",
        "    x_squared_mean = sum([xi**2 for xi in x]) / n\n",
        "    self.a = (xy_m - x_m * y_m) / (x_squared_mean - x_m**2)\n",
        "    self.b = y_m - self.a * x_m\n",
        "  def predict(self,x):\n",
        "    if self.a is None or self.b is None:\n",
        "      raise ValueError(\"Модель не обучена(\")\n",
        "    return [self.a * xi + self.b for xi in x]\n",
        "  def score(self,x,y):\n",
        "    try:\n",
        "      y_p = self.predict(x)\n",
        "    except ValueError:\n",
        "      raise ValueError(\"Модель не обучена(\")\n",
        "    y_m = sum(y) / len(y)\n",
        "    fgf = sum([(yi - y_m)**2 for yi in y])\n",
        "    gfg = sum([(yi - y_p[i])**2 for i, yi in enumerate(y)])\n",
        "    return 1 - gfg/fgf"
      ],
      "metadata": {
        "id": "VVAWh_cFjRC-"
      },
      "execution_count": null,
      "outputs": []
    },
    {
      "cell_type": "code",
      "source": [
        "model = MyClass()\n",
        "x = [1,3,5,7,9]\n",
        "y = [2,4,6,8,10]\n",
        "model.fit(x,y)\n",
        "print(\"Линейная регрессия: a\",model.a, \"b \", model.b)\n",
        "print(\"Новые значения х:\",model.predict([6,7,8]))\n",
        "print(\"Score\", model.score(x,y))"
      ],
      "metadata": {
        "colab": {
          "base_uri": "https://localhost:8080/"
        },
        "id": "LyT-t6xRxhGK",
        "outputId": "0943d82a-9985-4de5-f32f-ead516c2710c"
      },
      "execution_count": null,
      "outputs": [
        {
          "output_type": "stream",
          "name": "stdout",
          "text": [
            "Линейная регрессия: a 1.0 b  1.0\n",
            "Новые значения х: [7.0, 8.0, 9.0]\n",
            "Score 1.0\n"
          ]
        }
      ]
    },
    {
      "cell_type": "code",
      "source": [
        "import sklearn\n",
        "from sklearn.linear_model import LinearRegression\n",
        "x = [[1],[3],[5],[7],[9]]\n",
        "y = [2,4,6,8,10]\n",
        "model = LinearRegression()\n",
        "model.fit(x,y)\n",
        "\n",
        "print (\"Коэф-ты а\",model.coef_[0],\"b \",model.intercept_)\n",
        "print (\"Нов значение х\",model.predict([[6],[7],[8]]))\n",
        "print (\"Score\", model.score(x,y))"
      ],
      "metadata": {
        "colab": {
          "base_uri": "https://localhost:8080/"
        },
        "id": "tB4tOpoWvWYE",
        "outputId": "3fe2e25c-0689-4ead-961a-4424b4a78bb2"
      },
      "execution_count": null,
      "outputs": [
        {
          "output_type": "stream",
          "name": "stdout",
          "text": [
            "Коэф-ты а 1.0 b  1.0\n",
            "Нов значение х [7. 8. 9.]\n",
            "Score 1.0\n"
          ]
        }
      ]
    }
  ]
}